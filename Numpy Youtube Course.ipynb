{
 "cells": [
  {
   "cell_type": "markdown",
   "id": "a48c41bc",
   "metadata": {},
   "source": [
    "# 1- Tipos e Tamanho"
   ]
  },
  {
   "cell_type": "markdown",
   "id": "070bb72e",
   "metadata": {},
   "source": [
    "Transformando listas em arrays"
   ]
  },
  {
   "cell_type": "code",
   "execution_count": 6,
   "id": "7baa9490",
   "metadata": {},
   "outputs": [],
   "source": [
    "import numpy as np"
   ]
  },
  {
   "cell_type": "code",
   "execution_count": 7,
   "id": "d7dc3db5",
   "metadata": {},
   "outputs": [],
   "source": [
    "a = [1,2,3]\n",
    "b = [[4.,5.,6.],[7.,8.,9.]]"
   ]
  },
  {
   "cell_type": "code",
   "execution_count": 8,
   "id": "1c1ab433",
   "metadata": {},
   "outputs": [
    {
     "name": "stdout",
     "output_type": "stream",
     "text": [
      "[1 2 3]\n",
      "[[4. 5. 6.]\n",
      " [7. 8. 9.]]\n"
     ]
    }
   ],
   "source": [
    "#Transformando em Array e modificando tamanho\n",
    "a = np.array(a, dtype='int64')\n",
    "b = np.array(b)\n",
    "\n",
    "print(a)\n",
    "print(b)"
   ]
  },
  {
   "cell_type": "code",
   "execution_count": 9,
   "id": "ea91847b",
   "metadata": {},
   "outputs": [
    {
     "data": {
      "text/plain": [
       "(2, 3)"
      ]
     },
     "execution_count": 9,
     "metadata": {},
     "output_type": "execute_result"
    }
   ],
   "source": [
    "#Formato do Array\n",
    "b.shape"
   ]
  },
  {
   "cell_type": "code",
   "execution_count": 10,
   "id": "5d2f5553",
   "metadata": {},
   "outputs": [
    {
     "data": {
      "text/plain": [
       "2"
      ]
     },
     "execution_count": 10,
     "metadata": {},
     "output_type": "execute_result"
    }
   ],
   "source": [
    "#Verificando Dimensionalidade\n",
    "b.ndim"
   ]
  },
  {
   "cell_type": "markdown",
   "id": "ffd2f9fb",
   "metadata": {},
   "source": [
    "Tipos e Tamanhos"
   ]
  },
  {
   "cell_type": "code",
   "execution_count": 11,
   "id": "d0e9a970",
   "metadata": {},
   "outputs": [
    {
     "data": {
      "text/plain": [
       "dtype('int64')"
      ]
     },
     "execution_count": 11,
     "metadata": {},
     "output_type": "execute_result"
    }
   ],
   "source": [
    "#Obter tipo\n",
    "a.dtype"
   ]
  },
  {
   "cell_type": "code",
   "execution_count": 12,
   "id": "cf4e44cd",
   "metadata": {},
   "outputs": [
    {
     "data": {
      "text/plain": [
       "8"
      ]
     },
     "execution_count": 12,
     "metadata": {},
     "output_type": "execute_result"
    }
   ],
   "source": [
    "a.itemsize"
   ]
  },
  {
   "cell_type": "code",
   "execution_count": 13,
   "id": "a4b782ba",
   "metadata": {},
   "outputs": [
    {
     "data": {
      "text/plain": [
       "dtype('float64')"
      ]
     },
     "execution_count": 13,
     "metadata": {},
     "output_type": "execute_result"
    }
   ],
   "source": [
    "b.dtype"
   ]
  },
  {
   "cell_type": "code",
   "execution_count": 14,
   "id": "94acb59d",
   "metadata": {},
   "outputs": [
    {
     "data": {
      "text/plain": [
       "8"
      ]
     },
     "execution_count": 14,
     "metadata": {},
     "output_type": "execute_result"
    }
   ],
   "source": [
    "b.itemsize"
   ]
  },
  {
   "cell_type": "code",
   "execution_count": 15,
   "id": "a95b4b83",
   "metadata": {},
   "outputs": [
    {
     "data": {
      "text/plain": [
       "24"
      ]
     },
     "execution_count": 15,
     "metadata": {},
     "output_type": "execute_result"
    }
   ],
   "source": [
    "#Tamanho total\n",
    "a.nbytes"
   ]
  },
  {
   "cell_type": "code",
   "execution_count": 16,
   "id": "24ff51e0",
   "metadata": {},
   "outputs": [
    {
     "data": {
      "text/plain": [
       "48"
      ]
     },
     "execution_count": 16,
     "metadata": {},
     "output_type": "execute_result"
    }
   ],
   "source": [
    "#Tamanho total\n",
    "b.nbytes"
   ]
  },
  {
   "cell_type": "markdown",
   "id": "e590b319",
   "metadata": {},
   "source": [
    "# 2- Inicializando Arrays"
   ]
  },
  {
   "cell_type": "code",
   "execution_count": 17,
   "id": "bc5b608e",
   "metadata": {},
   "outputs": [
    {
     "data": {
      "text/plain": [
       "array([[0, 0],\n",
       "       [0, 0]], dtype=int16)"
      ]
     },
     "execution_count": 17,
     "metadata": {},
     "output_type": "execute_result"
    }
   ],
   "source": [
    "np.zeros((2,2), dtype='int16')"
   ]
  },
  {
   "cell_type": "code",
   "execution_count": 18,
   "id": "ba9be051",
   "metadata": {},
   "outputs": [
    {
     "name": "stdout",
     "output_type": "stream",
     "text": [
      "[[[1 1 1]\n",
      "  [1 1 1]]\n",
      "\n",
      " [[1 1 1]\n",
      "  [1 1 1]]]\n"
     ]
    }
   ],
   "source": [
    "test = np.ones((2,2,3), dtype='int64')\n",
    "print(test)"
   ]
  },
  {
   "cell_type": "code",
   "execution_count": 19,
   "id": "62c90a5f",
   "metadata": {},
   "outputs": [
    {
     "data": {
      "text/plain": [
       "3"
      ]
     },
     "execution_count": 19,
     "metadata": {},
     "output_type": "execute_result"
    }
   ],
   "source": [
    "test.ndim"
   ]
  },
  {
   "cell_type": "code",
   "execution_count": 20,
   "id": "3b57fe4e",
   "metadata": {},
   "outputs": [
    {
     "data": {
      "text/plain": [
       "array([[100, 100],\n",
       "       [100, 100]])"
      ]
     },
     "execution_count": 20,
     "metadata": {},
     "output_type": "execute_result"
    }
   ],
   "source": [
    "np.full((2,2), 100, dtype='int32')"
   ]
  },
  {
   "cell_type": "code",
   "execution_count": 21,
   "id": "a2ee9ffa",
   "metadata": {},
   "outputs": [
    {
     "data": {
      "text/plain": [
       "array([[[5, 5, 5],\n",
       "        [5, 5, 5]],\n",
       "\n",
       "       [[5, 5, 5],\n",
       "        [5, 5, 5]]], dtype=int64)"
      ]
     },
     "execution_count": 21,
     "metadata": {},
     "output_type": "execute_result"
    }
   ],
   "source": [
    "np.full_like(test, 5, dtype='int64')"
   ]
  },
  {
   "cell_type": "markdown",
   "id": "1690c217",
   "metadata": {},
   "source": [
    "Preenchendo com valores aleatórios entre 0 e 1"
   ]
  },
  {
   "cell_type": "code",
   "execution_count": 22,
   "id": "89e7dd45",
   "metadata": {},
   "outputs": [
    {
     "data": {
      "text/plain": [
       "array([[0.4900932 , 0.65136695],\n",
       "       [0.92926542, 0.29327189],\n",
       "       [0.05219148, 0.6253187 ],\n",
       "       [0.68039189, 0.6355021 ]])"
      ]
     },
     "execution_count": 22,
     "metadata": {},
     "output_type": "execute_result"
    }
   ],
   "source": [
    "np.random.rand(4,2)"
   ]
  },
  {
   "cell_type": "code",
   "execution_count": 23,
   "id": "87bf54d3",
   "metadata": {},
   "outputs": [
    {
     "data": {
      "text/plain": [
       "array([[[0.30655502, 0.09463086, 0.50985975],\n",
       "        [0.25779868, 0.37015838, 0.01380132]],\n",
       "\n",
       "       [[0.73479806, 0.3338826 , 0.47893302],\n",
       "        [0.41326869, 0.5226467 , 0.38438908]]])"
      ]
     },
     "execution_count": 23,
     "metadata": {},
     "output_type": "execute_result"
    }
   ],
   "source": [
    "np.random.random_sample(test.shape)"
   ]
  },
  {
   "cell_type": "markdown",
   "id": "ca3dfdf9",
   "metadata": {},
   "source": [
    "Preenchendo com valores aleatórios inteiros"
   ]
  },
  {
   "cell_type": "code",
   "execution_count": 24,
   "id": "9dc2e03a",
   "metadata": {},
   "outputs": [
    {
     "data": {
      "text/plain": [
       "array([[26, 50],\n",
       "       [44, 20]])"
      ]
     },
     "execution_count": 24,
     "metadata": {},
     "output_type": "execute_result"
    }
   ],
   "source": [
    "np.random.randint(0,100, size=(2,2))"
   ]
  },
  {
   "cell_type": "code",
   "execution_count": 25,
   "id": "25827fa9",
   "metadata": {},
   "outputs": [
    {
     "data": {
      "text/plain": [
       "array([[[37, 19, 90],\n",
       "        [87, 55, 89]],\n",
       "\n",
       "       [[81, 18, 37],\n",
       "        [12, 80, 98]]])"
      ]
     },
     "execution_count": 25,
     "metadata": {},
     "output_type": "execute_result"
    }
   ],
   "source": [
    "np.random.randint(0,100, size=(test.shape))"
   ]
  },
  {
   "cell_type": "markdown",
   "id": "a83b5f38",
   "metadata": {},
   "source": [
    "Repetir uma Array"
   ]
  },
  {
   "cell_type": "code",
   "execution_count": 26,
   "id": "c71af251",
   "metadata": {},
   "outputs": [
    {
     "data": {
      "text/plain": [
       "array([1, 1, 1, 2, 2, 2, 3, 3, 3])"
      ]
     },
     "execution_count": 26,
     "metadata": {},
     "output_type": "execute_result"
    }
   ],
   "source": [
    "lista = [1,2,3]\n",
    "array = np.array(lista)\n",
    "np.repeat(array, 3)"
   ]
  },
  {
   "cell_type": "markdown",
   "id": "4c604b4f",
   "metadata": {},
   "source": [
    "# 3- Fatiamento, Cópias e Índices"
   ]
  },
  {
   "cell_type": "code",
   "execution_count": 27,
   "id": "9ae426b7",
   "metadata": {},
   "outputs": [
    {
     "name": "stderr",
     "output_type": "stream",
     "text": [
      "C:\\Users\\Gabriel\\AppData\\Local\\Temp\\ipykernel_13140\\34539391.py:6: DeprecationWarning: Conversion of an array with ndim > 0 to a scalar is deprecated, and will error in future. Ensure you extract a single element from your array before performing this operation. (Deprecated NumPy 1.25.)\n",
      "  a[2,2] = c\n"
     ]
    },
    {
     "data": {
      "text/plain": [
       "array([[ 1,  1,  1,  1,  1],\n",
       "       [ 1,  0,  0,  0,  1],\n",
       "       [ 1,  0, 20,  0,  1],\n",
       "       [ 1,  0,  0,  0,  1],\n",
       "       [ 1,  1,  1,  1,  1]], dtype=int16)"
      ]
     },
     "execution_count": 27,
     "metadata": {},
     "output_type": "execute_result"
    }
   ],
   "source": [
    "a = np.ones((5,5), dtype='int16')\n",
    "b = np.zeros((3,3), dtype='int16')\n",
    "c = np.random.randint(0,100, size=(1,1), dtype='int16')\n",
    "\n",
    "a[1:-1, 1:-1] = b\n",
    "a[2,2] = c\n",
    "a"
   ]
  },
  {
   "cell_type": "code",
   "execution_count": 28,
   "id": "a83c1a52",
   "metadata": {},
   "outputs": [
    {
     "data": {
      "text/plain": [
       "array([[100, 100, 100, 100, 100],\n",
       "       [100, 100, 100, 100, 100],\n",
       "       [100, 100, 100, 100, 100],\n",
       "       [100, 100, 100, 100, 100],\n",
       "       [100, 100, 100, 100, 100]], dtype=int16)"
      ]
     },
     "execution_count": 28,
     "metadata": {},
     "output_type": "execute_result"
    }
   ],
   "source": [
    "#Utilizar copy()\n",
    "a = np.full_like(a, 100)\n",
    "b = a.copy()\n",
    "b"
   ]
  },
  {
   "cell_type": "markdown",
   "id": "09b44d91",
   "metadata": {},
   "source": [
    "# 4- Stats"
   ]
  },
  {
   "cell_type": "code",
   "execution_count": 29,
   "id": "880eaac5",
   "metadata": {},
   "outputs": [],
   "source": [
    "b = np.array([[4.,5.,6.],[7.,8.,9.], [10.,11.,12]], dtype='int16')"
   ]
  },
  {
   "cell_type": "markdown",
   "id": "5b9297f4",
   "metadata": {},
   "source": [
    "Min()"
   ]
  },
  {
   "cell_type": "code",
   "execution_count": 30,
   "id": "bd6d8d06",
   "metadata": {},
   "outputs": [
    {
     "name": "stdout",
     "output_type": "stream",
     "text": [
      "O mínimo total é: 4\n",
      "A menor array é: [4 5 6]\n",
      "O mínimo local unitário é: [ 4  7 10]\n"
     ]
    }
   ],
   "source": [
    "print(f'O mínimo total é: {np.min(b)}')\n",
    "print(f'A menor array é: {np.min(b, axis=0)}')\n",
    "print(f'O mínimo local unitário é: {np.min(b, axis=1)}')"
   ]
  },
  {
   "cell_type": "markdown",
   "id": "3c78fb97",
   "metadata": {},
   "source": [
    "Max()"
   ]
  },
  {
   "cell_type": "code",
   "execution_count": 31,
   "id": "55f04342",
   "metadata": {},
   "outputs": [
    {
     "name": "stdout",
     "output_type": "stream",
     "text": [
      "O mínimo total é: 12\n",
      "A menor array é: [10 11 12]\n",
      "O mínimo local unitário é: [ 6  9 12]\n"
     ]
    }
   ],
   "source": [
    "print(f'O mínimo total é: {np.max(b)}')\n",
    "print(f'A menor array é: {np.max(b, axis=0)}')\n",
    "print(f'O mínimo local unitário é: {np.max(b, axis=1)}')"
   ]
  },
  {
   "cell_type": "code",
   "execution_count": 32,
   "id": "1cbaf351",
   "metadata": {},
   "outputs": [
    {
     "data": {
      "text/plain": [
       "72"
      ]
     },
     "execution_count": 32,
     "metadata": {},
     "output_type": "execute_result"
    }
   ],
   "source": [
    "np.sum(b)"
   ]
  },
  {
   "cell_type": "code",
   "execution_count": 33,
   "id": "49715ed2",
   "metadata": {},
   "outputs": [
    {
     "data": {
      "text/plain": [
       "8.0"
      ]
     },
     "execution_count": 33,
     "metadata": {},
     "output_type": "execute_result"
    }
   ],
   "source": [
    "np.mean(b)"
   ]
  },
  {
   "cell_type": "code",
   "execution_count": 34,
   "id": "ca25084c",
   "metadata": {},
   "outputs": [
    {
     "data": {
      "text/plain": [
       "8.0"
      ]
     },
     "execution_count": 34,
     "metadata": {},
     "output_type": "execute_result"
    }
   ],
   "source": [
    "np.median(b)"
   ]
  },
  {
   "cell_type": "markdown",
   "id": "e26a1930",
   "metadata": {},
   "source": [
    "# 5- Reorganizando Arrays"
   ]
  },
  {
   "cell_type": "code",
   "execution_count": 35,
   "id": "880d533d",
   "metadata": {},
   "outputs": [
    {
     "data": {
      "text/plain": [
       "(2, 3)"
      ]
     },
     "execution_count": 35,
     "metadata": {},
     "output_type": "execute_result"
    }
   ],
   "source": [
    "b = np.array([[4.,5.,6.],[7.,8.,9.]])\n",
    "np.shape(b)"
   ]
  },
  {
   "cell_type": "code",
   "execution_count": 36,
   "id": "fd92162d",
   "metadata": {},
   "outputs": [
    {
     "data": {
      "text/plain": [
       "array([[4.],\n",
       "       [5.],\n",
       "       [6.],\n",
       "       [7.],\n",
       "       [8.],\n",
       "       [9.]])"
      ]
     },
     "execution_count": 36,
     "metadata": {},
     "output_type": "execute_result"
    }
   ],
   "source": [
    "b.reshape((6,1))"
   ]
  },
  {
   "cell_type": "markdown",
   "id": "b74a23f4",
   "metadata": {},
   "source": [
    "VStacks"
   ]
  },
  {
   "cell_type": "code",
   "execution_count": 37,
   "id": "cf2c95b2",
   "metadata": {},
   "outputs": [
    {
     "data": {
      "text/plain": [
       "array([[1., 1., 1., 1.],\n",
       "       [0., 0., 0., 0.]])"
      ]
     },
     "execution_count": 37,
     "metadata": {},
     "output_type": "execute_result"
    }
   ],
   "source": [
    "v1 = np.ones((1,4))\n",
    "v2 = np.zeros((1,4))\n",
    "\n",
    "np.vstack((v1,v2))"
   ]
  },
  {
   "cell_type": "markdown",
   "id": "ae6257fb",
   "metadata": {},
   "source": [
    "HStack"
   ]
  },
  {
   "cell_type": "code",
   "execution_count": 38,
   "id": "c127f87b",
   "metadata": {},
   "outputs": [
    {
     "data": {
      "text/plain": [
       "array([[1., 1., 1., 1., 0., 0., 0., 0.]])"
      ]
     },
     "execution_count": 38,
     "metadata": {},
     "output_type": "execute_result"
    }
   ],
   "source": [
    "np.hstack((v1,v2))"
   ]
  },
  {
   "cell_type": "markdown",
   "id": "741afbed",
   "metadata": {},
   "source": [
    "# 6- Carregando dados com Numpy "
   ]
  },
  {
   "cell_type": "markdown",
   "id": "a6652203",
   "metadata": {},
   "source": [
    "Diferenças no armazenamento da memória"
   ]
  },
  {
   "cell_type": "code",
   "execution_count": 48,
   "id": "21420082",
   "metadata": {},
   "outputs": [
    {
     "data": {
      "text/plain": [
       "array([[  1.,  13.,  21.,  11., 196.,  75.,   4.,   3.,  34.,   6.,   7.,\n",
       "          8.,   0.,   1.,   2.,   3.,   4.,   5.],\n",
       "       [  3.,  42.,  12.,  33., 766.,  75.,   4.,  55.,   6.,   4.,   3.,\n",
       "          4.,   5.,   6.,   7.,   0.,  11.,  12.],\n",
       "       [  1.,  22.,  33.,  11., 999.,  11.,   2.,   1.,  78.,   0.,   1.,\n",
       "          2.,   9.,   8.,   7.,   1.,  76.,  88.]])"
      ]
     },
     "execution_count": 48,
     "metadata": {},
     "output_type": "execute_result"
    }
   ],
   "source": [
    "filedata = np.loadtxt('data.txt', delimiter=',')\n",
    "filedata.astype('int16') \n",
    "filedata"
   ]
  },
  {
   "cell_type": "code",
   "execution_count": 62,
   "id": "9db5746c",
   "metadata": {},
   "outputs": [
    {
     "data": {
      "text/plain": [
       "array([[  1,  13,  21,  11, 196,  75,   4,   3,  34,   6,   7,   8,   0,\n",
       "          1,   2,   3,   4,   5],\n",
       "       [  3,  42,  12,  33, 766,  75,   4,  55,   6,   4,   3,   4,   5,\n",
       "          6,   7,   0,  11,  12],\n",
       "       [  1,  22,  33,  11, 999,  11,   2,   1,  78,   0,   1,   2,   9,\n",
       "          8,   7,   1,  76,  88]], dtype=int16)"
      ]
     },
     "execution_count": 62,
     "metadata": {},
     "output_type": "execute_result"
    }
   ],
   "source": [
    "filedata = np.loadtxt('data.txt', delimiter=',')\n",
    "filedata = filedata.astype('int16') \n",
    "filedata"
   ]
  },
  {
   "cell_type": "markdown",
   "id": "04ca458b",
   "metadata": {},
   "source": [
    "Booleans"
   ]
  },
  {
   "cell_type": "code",
   "execution_count": 63,
   "id": "aa9a7ad5",
   "metadata": {},
   "outputs": [
    {
     "data": {
      "text/plain": [
       "array([[False, False, False, False,  True, False, False, False, False,\n",
       "        False, False, False, False, False, False, False, False, False],\n",
       "       [False, False, False, False,  True, False, False, False, False,\n",
       "        False, False, False, False, False, False, False, False, False],\n",
       "       [False, False, False, False,  True, False, False, False, False,\n",
       "        False, False, False, False, False, False, False, False, False]])"
      ]
     },
     "execution_count": 63,
     "metadata": {},
     "output_type": "execute_result"
    }
   ],
   "source": [
    "data = filedata > 100\n",
    "data"
   ]
  },
  {
   "cell_type": "code",
   "execution_count": 64,
   "id": "7570067f",
   "metadata": {},
   "outputs": [
    {
     "data": {
      "text/plain": [
       "array([196, 766, 999], dtype=int16)"
      ]
     },
     "execution_count": 64,
     "metadata": {},
     "output_type": "execute_result"
    }
   ],
   "source": [
    "filedata[data]"
   ]
  },
  {
   "cell_type": "code",
   "execution_count": null,
   "id": "192f321d",
   "metadata": {},
   "outputs": [],
   "source": []
  }
 ],
 "metadata": {
  "kernelspec": {
   "display_name": "Python 3 (ipykernel)",
   "language": "python",
   "name": "python3"
  },
  "language_info": {
   "codemirror_mode": {
    "name": "ipython",
    "version": 3
   },
   "file_extension": ".py",
   "mimetype": "text/x-python",
   "name": "python",
   "nbconvert_exporter": "python",
   "pygments_lexer": "ipython3",
   "version": "3.11.5"
  }
 },
 "nbformat": 4,
 "nbformat_minor": 5
}
